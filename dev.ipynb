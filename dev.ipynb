{
 "cells": [
  {
   "cell_type": "code",
   "execution_count": 11,
   "metadata": {},
   "outputs": [],
   "source": [
    "import os\n",
    "import io\n",
    "import json\n",
    "from google.cloud import bigquery\n",
    "\n",
    "os.environ[\"GOOGLE_APPLICATION_CREDENTIALS\"] = \"/users/chrisdaly/documents/Keys/sovai-369916-bdd4bb0d47b0.json\""
   ]
  },
  {
   "cell_type": "markdown",
   "metadata": {},
   "source": [
    "# Setup"
   ]
  },
  {
   "cell_type": "code",
   "execution_count": null,
   "metadata": {},
   "outputs": [],
   "source": [
    "client = bigquery.Client()\n",
    "project_name = client.project"
   ]
  },
  {
   "cell_type": "code",
   "execution_count": 12,
   "metadata": {},
   "outputs": [],
   "source": [
    "dataset_name = \"wallstreetbets\""
   ]
  },
  {
   "cell_type": "code",
   "execution_count": 13,
   "metadata": {},
   "outputs": [],
   "source": [
    "dataset_id = f\"{project_name}.{dataset_name}\"\n",
    "dataset = bigquery.Dataset(dataset_id)\n",
    "dataset.location = \"US\"\n",
    "dataset = client.create_dataset(dataset, timeout=30)\n",
    "print(f\"Created dataset {project_name}.{dataset.dataset_id}\")"
   ]
  },
  {
   "cell_type": "markdown",
   "metadata": {},
   "source": [
    "## Comments"
   ]
  },
  {
   "cell_type": "code",
   "execution_count": 15,
   "metadata": {},
   "outputs": [
    {
     "name": "stdout",
     "output_type": "stream",
     "text": [
      "Created table sovai-369916.wallstreetbets.comments\n"
     ]
    }
   ],
   "source": [
    "table_name = \"comments\"\n",
    "table_id = f\"{dataset_id}.{table_name}\"\n",
    "\n",
    "schema_comments = [\n",
    "    bigquery.SchemaField(\"id\", \"INTEGER\", mode=\"REQUIRED\"),\n",
    "    bigquery.SchemaField(\"created_utc\", \"INTEGER\", mode=\"REQUIRED\"),\n",
    "    bigquery.SchemaField(\"author\", \"STRING\", mode=\"REQUIRED\"),\n",
    "    bigquery.SchemaField(\"body\", \"STRING\", mode=\"REQUIRED\"),\n",
    "    bigquery.SchemaField(\"permalink\", \"STRING\", mode=\"REQUIRED\"),\n",
    "]\n",
    "\n",
    "table = bigquery.Table(table_id, schema=schema_comments)\n",
    "table = client.create_table(table)\n",
    "print(f\"Created table {table.project}.{table.dataset_id}.{table.table_id}\")"
   ]
  },
  {
   "cell_type": "markdown",
   "metadata": {},
   "source": [
    "## Submissions"
   ]
  },
  {
   "cell_type": "code",
   "execution_count": 20,
   "metadata": {},
   "outputs": [
    {
     "name": "stdout",
     "output_type": "stream",
     "text": [
      "Created table sovai-369916.wallstreetbets.submissions\n"
     ]
    }
   ],
   "source": [
    "table_name = \"submissions\"\n",
    "table_id = f\"{dataset_id}.{table_name}\"\n",
    "\n",
    "schema_submissions = [\n",
    "    bigquery.SchemaField(\"id\", \"INTEGER\", mode=\"REQUIRED\"),\n",
    "    bigquery.SchemaField(\"created_utc\", \"INTEGER\", mode=\"REQUIRED\"),\n",
    "    bigquery.SchemaField(\"author\", \"STRING\", mode=\"REQUIRED\"),\n",
    "    bigquery.SchemaField(\"selftext\", \"STRING\", mode=\"REQUIRED\"),\n",
    "    bigquery.SchemaField(\"title\", \"STRING\", mode=\"REQUIRED\"),\n",
    "    bigquery.SchemaField(\"permalink\", \"STRING\", mode=\"REQUIRED\"),\n",
    "]\n",
    "\n",
    "table = bigquery.Table(table_id, schema=schema_submissions)\n",
    "table = client.create_table(table)\n",
    "print(f\"Created table {table.project}.{table.dataset_id}.{table.table_id}\")"
   ]
  },
  {
   "cell_type": "markdown",
   "metadata": {},
   "source": [
    "# Data Loading"
   ]
  },
  {
   "cell_type": "markdown",
   "metadata": {},
   "source": [
    "## Comments"
   ]
  },
  {
   "cell_type": "code",
   "execution_count": 16,
   "metadata": {},
   "outputs": [],
   "source": [
    "file_path = '/Users/chrisdaly/Documents/Data Processing/reddit/data/wallstreetbets/comment/1662229943.json'\n",
    "\n",
    "with open(file_path, \"r\") as f:\n",
    "    data = json.load(f)"
   ]
  },
  {
   "cell_type": "code",
   "execution_count": 17,
   "metadata": {},
   "outputs": [
    {
     "data": {
      "text/plain": [
       "LoadJob<project=sovai-369916, location=US, id=908d785a-df49-4a77-a026-d806868e4a2f>"
      ]
     },
     "execution_count": 17,
     "metadata": {},
     "output_type": "execute_result"
    }
   ],
   "source": [
    "job_config = bigquery.LoadJobConfig(schema=schema_comments)\n",
    "job_config = bigquery.LoadJobConfig(write_disposition=bigquery.WriteDisposition.WRITE_TRUNCATE, source_format=bigquery.SourceFormat.NEWLINE_DELIMITED_JSON)\n",
    "job = client.load_table_from_json(data, table, job_config=job_config)\n",
    "job.result()"
   ]
  },
  {
   "cell_type": "markdown",
   "metadata": {},
   "source": [
    "## Submissions"
   ]
  },
  {
   "cell_type": "code",
   "execution_count": 21,
   "metadata": {},
   "outputs": [],
   "source": [
    "schema_submissions = [\n",
    "    bigquery.SchemaField(\"id\", \"INTEGER\", mode=\"REQUIRED\"),\n",
    "    bigquery.SchemaField(\"created_utc\", \"INTEGER\", mode=\"REQUIRED\"),\n",
    "    bigquery.SchemaField(\"author\", \"STRING\", mode=\"REQUIRED\"),\n",
    "    bigquery.SchemaField(\"selftext\", \"STRING\", mode=\"REQUIRED\"),\n",
    "    bigquery.SchemaField(\"title\", \"STRING\", mode=\"REQUIRED\"),\n",
    "    bigquery.SchemaField(\"permalink\", \"STRING\", mode=\"REQUIRED\"),\n",
    "]"
   ]
  },
  {
   "cell_type": "code",
   "execution_count": 23,
   "metadata": {},
   "outputs": [],
   "source": [
    "file_path = '/Users/chrisdaly/Documents/Data Processing/reddit/data/wallstreetbets/submission/1338997585.json'\n",
    "\n",
    "with open(file_path, \"r\") as f:\n",
    "    data = json.load(f)"
   ]
  },
  {
   "cell_type": "code",
   "execution_count": 24,
   "metadata": {},
   "outputs": [
    {
     "data": {
      "text/plain": [
       "LoadJob<project=sovai-369916, location=US, id=57527861-ff92-4649-9a7a-ebd10b6568ec>"
      ]
     },
     "execution_count": 24,
     "metadata": {},
     "output_type": "execute_result"
    }
   ],
   "source": [
    "job_config = bigquery.LoadJobConfig(schema=schema_submissions)\n",
    "job_config = bigquery.LoadJobConfig(write_disposition=bigquery.WriteDisposition.WRITE_TRUNCATE, source_format=bigquery.SourceFormat.NEWLINE_DELIMITED_JSON)\n",
    "job = client.load_table_from_json(data, table, job_config=job_config)\n",
    "job.result()"
   ]
  }
 ],
 "metadata": {
  "kernelspec": {
   "display_name": "Python 3.9.12 ('google_bq': venv)",
   "language": "python",
   "name": "python3"
  },
  "language_info": {
   "codemirror_mode": {
    "name": "ipython",
    "version": 3
   },
   "file_extension": ".py",
   "mimetype": "text/x-python",
   "name": "python",
   "nbconvert_exporter": "python",
   "pygments_lexer": "ipython3",
   "version": "3.9.12"
  },
  "orig_nbformat": 4,
  "vscode": {
   "interpreter": {
    "hash": "62df742902be2d4d4c51cab513043d2e2e7e51b83e19c165c584db063e62d822"
   }
  }
 },
 "nbformat": 4,
 "nbformat_minor": 2
}
